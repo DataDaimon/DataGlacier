{
 "cells": [
  {
   "cell_type": "markdown",
   "id": "35e01d42",
   "metadata": {},
   "source": [
    "# Data Glacier - Week 02"
   ]
  },
  {
   "cell_type": "markdown",
   "id": "411a4ae7",
   "metadata": {},
   "source": [
    "### Import Libraries"
   ]
  },
  {
   "cell_type": "code",
   "execution_count": 1,
   "id": "891f23c8",
   "metadata": {},
   "outputs": [],
   "source": [
    "# Pandas is necessary for array manipulation and calculation\n",
    "import pandas as pd\n",
    "from pandas import DataFrame\n",
    "\n",
    "# Matplotlib library to create visualizations\n",
    "import matplotlib.pyplot as plt\n",
    "\n",
    "# Missingno used for missing data visualization\n",
    "import missingno as msno\n",
    "\n",
    "# NumPy necessary for statistical calculations\n",
    "import numpy as np\n",
    "np.set_printoptions(threshold=np.inf)\n",
    "\n",
    "# Change theme of graphs\n",
    "plt.style.use('fivethirtyeight')\n",
    "\n",
    "# Export images from Jupyter to PDF\n",
    "%matplotlib inline\n",
    "\n",
    "# Import Seaborn to graph distplots and boxplots\n",
    "import seaborn as sns"
   ]
  },
  {
   "cell_type": "markdown",
   "id": "6919e9dd",
   "metadata": {},
   "source": [
    "### Import Datasets"
   ]
  },
  {
   "cell_type": "code",
   "execution_count": 2,
   "id": "f2b79552",
   "metadata": {},
   "outputs": [],
   "source": [
    "# Cleaned cab_data dataset\n",
    "cab_df = pd.read_csv('C:/Users/Richard/Documents/GitHub/DataGlacier/Week 02/Datasets/cab_data_cleaned.csv')\n",
    "customer_id = pd.read_csv('C:/Users/Richard/Documents/GitHub/DataGlacier/Week 02/Datasets/customer_ID_cleaned.csv')\n",
    "transaction_id = pd.read_csv('C:/Users/Richard/Documents/GitHub/DataGlacier/Week 02/Datasets/transaction_ID_cleaned.csv')\n",
    "nyc_weather = pd.read_csv('C:/Users/Richard/Documents/GitHub/DataGlacier/Week 02/Datasets/nyc_weather_cleaned.csv')"
   ]
  },
  {
   "cell_type": "markdown",
   "id": "3a391c2d",
   "metadata": {},
   "source": [
    "# Cab Data Exploratory Data Analysis"
   ]
  },
  {
   "cell_type": "markdown",
   "id": "50b2775e",
   "metadata": {},
   "source": [
    "### View Headers"
   ]
  },
  {
   "cell_type": "code",
   "execution_count": 3,
   "id": "0665cbda",
   "metadata": {},
   "outputs": [
    {
     "data": {
      "text/html": [
       "<div>\n",
       "<style scoped>\n",
       "    .dataframe tbody tr th:only-of-type {\n",
       "        vertical-align: middle;\n",
       "    }\n",
       "\n",
       "    .dataframe tbody tr th {\n",
       "        vertical-align: top;\n",
       "    }\n",
       "\n",
       "    .dataframe thead th {\n",
       "        text-align: right;\n",
       "    }\n",
       "</style>\n",
       "<table border=\"1\" class=\"dataframe\">\n",
       "  <thead>\n",
       "    <tr style=\"text-align: right;\">\n",
       "      <th></th>\n",
       "      <th>Transaction ID</th>\n",
       "      <th>Date of Travel</th>\n",
       "      <th>Company</th>\n",
       "      <th>City</th>\n",
       "      <th>KM Travelled</th>\n",
       "      <th>Price Charged</th>\n",
       "      <th>Cost of Trip</th>\n",
       "    </tr>\n",
       "  </thead>\n",
       "  <tbody>\n",
       "    <tr>\n",
       "      <th>0</th>\n",
       "      <td>10002654</td>\n",
       "      <td>1/9/2016</td>\n",
       "      <td>1</td>\n",
       "      <td>WASHINGTON DC</td>\n",
       "      <td>3.54</td>\n",
       "      <td>56.03</td>\n",
       "      <td>48.4272</td>\n",
       "    </tr>\n",
       "    <tr>\n",
       "      <th>1</th>\n",
       "      <td>10002655</td>\n",
       "      <td>1/14/2016</td>\n",
       "      <td>1</td>\n",
       "      <td>WASHINGTON DC</td>\n",
       "      <td>28.08</td>\n",
       "      <td>412.28</td>\n",
       "      <td>343.6992</td>\n",
       "    </tr>\n",
       "    <tr>\n",
       "      <th>2</th>\n",
       "      <td>10002656</td>\n",
       "      <td>1/9/2016</td>\n",
       "      <td>1</td>\n",
       "      <td>WASHINGTON DC</td>\n",
       "      <td>35.96</td>\n",
       "      <td>665.56</td>\n",
       "      <td>431.5200</td>\n",
       "    </tr>\n",
       "    <tr>\n",
       "      <th>3</th>\n",
       "      <td>10002657</td>\n",
       "      <td>1/13/2016</td>\n",
       "      <td>1</td>\n",
       "      <td>WASHINGTON DC</td>\n",
       "      <td>8.96</td>\n",
       "      <td>144.84</td>\n",
       "      <td>118.2720</td>\n",
       "    </tr>\n",
       "    <tr>\n",
       "      <th>4</th>\n",
       "      <td>10002658</td>\n",
       "      <td>1/13/2016</td>\n",
       "      <td>1</td>\n",
       "      <td>WASHINGTON DC</td>\n",
       "      <td>18.54</td>\n",
       "      <td>277.71</td>\n",
       "      <td>224.7048</td>\n",
       "    </tr>\n",
       "  </tbody>\n",
       "</table>\n",
       "</div>"
      ],
      "text/plain": [
       "   Transaction ID Date of Travel  Company           City  KM Travelled  \\\n",
       "0        10002654       1/9/2016        1  WASHINGTON DC          3.54   \n",
       "1        10002655      1/14/2016        1  WASHINGTON DC         28.08   \n",
       "2        10002656       1/9/2016        1  WASHINGTON DC         35.96   \n",
       "3        10002657      1/13/2016        1  WASHINGTON DC          8.96   \n",
       "4        10002658      1/13/2016        1  WASHINGTON DC         18.54   \n",
       "\n",
       "   Price Charged  Cost of Trip  \n",
       "0          56.03       48.4272  \n",
       "1         412.28      343.6992  \n",
       "2         665.56      431.5200  \n",
       "3         144.84      118.2720  \n",
       "4         277.71      224.7048  "
      ]
     },
     "execution_count": 3,
     "metadata": {},
     "output_type": "execute_result"
    }
   ],
   "source": [
    "cab_df.head()"
   ]
  },
  {
   "cell_type": "markdown",
   "id": "2fecfe01",
   "metadata": {},
   "source": [
    "### Verify Data types"
   ]
  },
  {
   "cell_type": "code",
   "execution_count": 4,
   "id": "e4fa441d",
   "metadata": {},
   "outputs": [
    {
     "data": {
      "text/plain": [
       "Transaction ID      int64\n",
       "Date of Travel     object\n",
       "Company             int64\n",
       "City               object\n",
       "KM Travelled      float64\n",
       "Price Charged     float64\n",
       "Cost of Trip      float64\n",
       "dtype: object"
      ]
     },
     "execution_count": 4,
     "metadata": {},
     "output_type": "execute_result"
    }
   ],
   "source": [
    "cab_df.dtypes"
   ]
  },
  {
   "cell_type": "markdown",
   "id": "d806aa3f",
   "metadata": {},
   "source": [
    "### Check for null values"
   ]
  },
  {
   "cell_type": "code",
   "execution_count": 5,
   "id": "3039951d",
   "metadata": {},
   "outputs": [
    {
     "data": {
      "text/plain": [
       "Transaction ID    0\n",
       "Date of Travel    0\n",
       "Company           0\n",
       "City              0\n",
       "KM Travelled      0\n",
       "Price Charged     0\n",
       "Cost of Trip      0\n",
       "dtype: int64"
      ]
     },
     "execution_count": 5,
     "metadata": {},
     "output_type": "execute_result"
    }
   ],
   "source": [
    "cab_df.isnull().sum()"
   ]
  },
  {
   "cell_type": "markdown",
   "id": "ae4bff97",
   "metadata": {},
   "source": [
    "### Remove Duplicates"
   ]
  },
  {
   "cell_type": "code",
   "execution_count": 6,
   "id": "2f1a45b0",
   "metadata": {},
   "outputs": [],
   "source": [
    "cab_df = cab_df.drop_duplicates()"
   ]
  },
  {
   "cell_type": "markdown",
   "id": "0a43a670",
   "metadata": {},
   "source": [
    "### Calculate five-number summary including interquartile range"
   ]
  },
  {
   "cell_type": "code",
   "execution_count": 7,
   "id": "13e7513d",
   "metadata": {},
   "outputs": [
    {
     "data": {
      "text/html": [
       "<div>\n",
       "<style scoped>\n",
       "    .dataframe tbody tr th:only-of-type {\n",
       "        vertical-align: middle;\n",
       "    }\n",
       "\n",
       "    .dataframe tbody tr th {\n",
       "        vertical-align: top;\n",
       "    }\n",
       "\n",
       "    .dataframe thead th {\n",
       "        text-align: right;\n",
       "    }\n",
       "</style>\n",
       "<table border=\"1\" class=\"dataframe\">\n",
       "  <thead>\n",
       "    <tr style=\"text-align: right;\">\n",
       "      <th></th>\n",
       "      <th>Transaction ID</th>\n",
       "      <th>Company</th>\n",
       "      <th>KM Travelled</th>\n",
       "      <th>Price Charged</th>\n",
       "      <th>Cost of Trip</th>\n",
       "    </tr>\n",
       "  </thead>\n",
       "  <tbody>\n",
       "    <tr>\n",
       "      <th>count</th>\n",
       "      <td>3.593920e+05</td>\n",
       "      <td>359392.000000</td>\n",
       "      <td>359392.000000</td>\n",
       "      <td>359392.000000</td>\n",
       "      <td>359392.000000</td>\n",
       "    </tr>\n",
       "    <tr>\n",
       "      <th>mean</th>\n",
       "      <td>1.022076e+07</td>\n",
       "      <td>1.235706</td>\n",
       "      <td>22.567254</td>\n",
       "      <td>423.443311</td>\n",
       "      <td>286.190113</td>\n",
       "    </tr>\n",
       "    <tr>\n",
       "      <th>std</th>\n",
       "      <td>1.268058e+05</td>\n",
       "      <td>0.424440</td>\n",
       "      <td>12.233526</td>\n",
       "      <td>274.378911</td>\n",
       "      <td>157.993661</td>\n",
       "    </tr>\n",
       "    <tr>\n",
       "      <th>min</th>\n",
       "      <td>1.000001e+07</td>\n",
       "      <td>1.000000</td>\n",
       "      <td>1.900000</td>\n",
       "      <td>15.600000</td>\n",
       "      <td>19.000000</td>\n",
       "    </tr>\n",
       "    <tr>\n",
       "      <th>25%</th>\n",
       "      <td>1.011081e+07</td>\n",
       "      <td>1.000000</td>\n",
       "      <td>12.000000</td>\n",
       "      <td>206.437500</td>\n",
       "      <td>151.200000</td>\n",
       "    </tr>\n",
       "    <tr>\n",
       "      <th>50%</th>\n",
       "      <td>1.022104e+07</td>\n",
       "      <td>1.000000</td>\n",
       "      <td>22.440000</td>\n",
       "      <td>386.360000</td>\n",
       "      <td>282.480000</td>\n",
       "    </tr>\n",
       "    <tr>\n",
       "      <th>75%</th>\n",
       "      <td>1.033094e+07</td>\n",
       "      <td>1.000000</td>\n",
       "      <td>32.960000</td>\n",
       "      <td>583.660000</td>\n",
       "      <td>413.683200</td>\n",
       "    </tr>\n",
       "    <tr>\n",
       "      <th>max</th>\n",
       "      <td>1.044011e+07</td>\n",
       "      <td>2.000000</td>\n",
       "      <td>48.000000</td>\n",
       "      <td>2048.030000</td>\n",
       "      <td>691.200000</td>\n",
       "    </tr>\n",
       "  </tbody>\n",
       "</table>\n",
       "</div>"
      ],
      "text/plain": [
       "       Transaction ID        Company   KM Travelled  Price Charged  \\\n",
       "count    3.593920e+05  359392.000000  359392.000000  359392.000000   \n",
       "mean     1.022076e+07       1.235706      22.567254     423.443311   \n",
       "std      1.268058e+05       0.424440      12.233526     274.378911   \n",
       "min      1.000001e+07       1.000000       1.900000      15.600000   \n",
       "25%      1.011081e+07       1.000000      12.000000     206.437500   \n",
       "50%      1.022104e+07       1.000000      22.440000     386.360000   \n",
       "75%      1.033094e+07       1.000000      32.960000     583.660000   \n",
       "max      1.044011e+07       2.000000      48.000000    2048.030000   \n",
       "\n",
       "        Cost of Trip  \n",
       "count  359392.000000  \n",
       "mean      286.190113  \n",
       "std       157.993661  \n",
       "min        19.000000  \n",
       "25%       151.200000  \n",
       "50%       282.480000  \n",
       "75%       413.683200  \n",
       "max       691.200000  "
      ]
     },
     "execution_count": 7,
     "metadata": {},
     "output_type": "execute_result"
    }
   ],
   "source": [
    "cab_df.describe()"
   ]
  },
  {
   "cell_type": "markdown",
   "id": "aa0ee0ec",
   "metadata": {},
   "source": [
    "### Calculate Standard Deviation"
   ]
  },
  {
   "cell_type": "code",
   "execution_count": 8,
   "id": "555f8ea4",
   "metadata": {},
   "outputs": [
    {
     "data": {
      "text/plain": [
       "Transaction ID    126805.803715\n",
       "Company                0.424440\n",
       "KM Travelled          12.233526\n",
       "Price Charged        274.378911\n",
       "Cost of Trip         157.993661\n",
       "dtype: float64"
      ]
     },
     "execution_count": 8,
     "metadata": {},
     "output_type": "execute_result"
    }
   ],
   "source": [
    "cab_df.std()"
   ]
  },
  {
   "cell_type": "markdown",
   "id": "c74012fa",
   "metadata": {},
   "source": [
    "### Calculate Mode"
   ]
  },
  {
   "cell_type": "code",
   "execution_count": 9,
   "id": "712cd426",
   "metadata": {},
   "outputs": [
    {
     "data": {
      "text/html": [
       "<div>\n",
       "<style scoped>\n",
       "    .dataframe tbody tr th:only-of-type {\n",
       "        vertical-align: middle;\n",
       "    }\n",
       "\n",
       "    .dataframe tbody tr th {\n",
       "        vertical-align: top;\n",
       "    }\n",
       "\n",
       "    .dataframe thead th {\n",
       "        text-align: right;\n",
       "    }\n",
       "</style>\n",
       "<table border=\"1\" class=\"dataframe\">\n",
       "  <thead>\n",
       "    <tr style=\"text-align: right;\">\n",
       "      <th></th>\n",
       "      <th>Transaction ID</th>\n",
       "      <th>Date of Travel</th>\n",
       "      <th>Company</th>\n",
       "      <th>City</th>\n",
       "      <th>KM Travelled</th>\n",
       "      <th>Price Charged</th>\n",
       "      <th>Cost of Trip</th>\n",
       "    </tr>\n",
       "  </thead>\n",
       "  <tbody>\n",
       "    <tr>\n",
       "      <th>0</th>\n",
       "      <td>10000011</td>\n",
       "      <td>1/5/2018</td>\n",
       "      <td>1.0</td>\n",
       "      <td>NEW YORK NY</td>\n",
       "      <td>33.6</td>\n",
       "      <td>191.27</td>\n",
       "      <td>362.88</td>\n",
       "    </tr>\n",
       "    <tr>\n",
       "      <th>1</th>\n",
       "      <td>10000012</td>\n",
       "      <td>NaN</td>\n",
       "      <td>NaN</td>\n",
       "      <td>NaN</td>\n",
       "      <td>NaN</td>\n",
       "      <td>298.32</td>\n",
       "      <td>NaN</td>\n",
       "    </tr>\n",
       "    <tr>\n",
       "      <th>2</th>\n",
       "      <td>10000013</td>\n",
       "      <td>NaN</td>\n",
       "      <td>NaN</td>\n",
       "      <td>NaN</td>\n",
       "      <td>NaN</td>\n",
       "      <td>NaN</td>\n",
       "      <td>NaN</td>\n",
       "    </tr>\n",
       "    <tr>\n",
       "      <th>3</th>\n",
       "      <td>10000014</td>\n",
       "      <td>NaN</td>\n",
       "      <td>NaN</td>\n",
       "      <td>NaN</td>\n",
       "      <td>NaN</td>\n",
       "      <td>NaN</td>\n",
       "      <td>NaN</td>\n",
       "    </tr>\n",
       "    <tr>\n",
       "      <th>4</th>\n",
       "      <td>10000015</td>\n",
       "      <td>NaN</td>\n",
       "      <td>NaN</td>\n",
       "      <td>NaN</td>\n",
       "      <td>NaN</td>\n",
       "      <td>NaN</td>\n",
       "      <td>NaN</td>\n",
       "    </tr>\n",
       "    <tr>\n",
       "      <th>...</th>\n",
       "      <td>...</td>\n",
       "      <td>...</td>\n",
       "      <td>...</td>\n",
       "      <td>...</td>\n",
       "      <td>...</td>\n",
       "      <td>...</td>\n",
       "      <td>...</td>\n",
       "    </tr>\n",
       "    <tr>\n",
       "      <th>359387</th>\n",
       "      <td>10440101</td>\n",
       "      <td>NaN</td>\n",
       "      <td>NaN</td>\n",
       "      <td>NaN</td>\n",
       "      <td>NaN</td>\n",
       "      <td>NaN</td>\n",
       "      <td>NaN</td>\n",
       "    </tr>\n",
       "    <tr>\n",
       "      <th>359388</th>\n",
       "      <td>10440104</td>\n",
       "      <td>NaN</td>\n",
       "      <td>NaN</td>\n",
       "      <td>NaN</td>\n",
       "      <td>NaN</td>\n",
       "      <td>NaN</td>\n",
       "      <td>NaN</td>\n",
       "    </tr>\n",
       "    <tr>\n",
       "      <th>359389</th>\n",
       "      <td>10440105</td>\n",
       "      <td>NaN</td>\n",
       "      <td>NaN</td>\n",
       "      <td>NaN</td>\n",
       "      <td>NaN</td>\n",
       "      <td>NaN</td>\n",
       "      <td>NaN</td>\n",
       "    </tr>\n",
       "    <tr>\n",
       "      <th>359390</th>\n",
       "      <td>10440106</td>\n",
       "      <td>NaN</td>\n",
       "      <td>NaN</td>\n",
       "      <td>NaN</td>\n",
       "      <td>NaN</td>\n",
       "      <td>NaN</td>\n",
       "      <td>NaN</td>\n",
       "    </tr>\n",
       "    <tr>\n",
       "      <th>359391</th>\n",
       "      <td>10440107</td>\n",
       "      <td>NaN</td>\n",
       "      <td>NaN</td>\n",
       "      <td>NaN</td>\n",
       "      <td>NaN</td>\n",
       "      <td>NaN</td>\n",
       "      <td>NaN</td>\n",
       "    </tr>\n",
       "  </tbody>\n",
       "</table>\n",
       "<p>359392 rows × 7 columns</p>\n",
       "</div>"
      ],
      "text/plain": [
       "        Transaction ID Date of Travel  Company         City  KM Travelled  \\\n",
       "0             10000011       1/5/2018      1.0  NEW YORK NY          33.6   \n",
       "1             10000012            NaN      NaN          NaN           NaN   \n",
       "2             10000013            NaN      NaN          NaN           NaN   \n",
       "3             10000014            NaN      NaN          NaN           NaN   \n",
       "4             10000015            NaN      NaN          NaN           NaN   \n",
       "...                ...            ...      ...          ...           ...   \n",
       "359387        10440101            NaN      NaN          NaN           NaN   \n",
       "359388        10440104            NaN      NaN          NaN           NaN   \n",
       "359389        10440105            NaN      NaN          NaN           NaN   \n",
       "359390        10440106            NaN      NaN          NaN           NaN   \n",
       "359391        10440107            NaN      NaN          NaN           NaN   \n",
       "\n",
       "        Price Charged  Cost of Trip  \n",
       "0              191.27        362.88  \n",
       "1              298.32           NaN  \n",
       "2                 NaN           NaN  \n",
       "3                 NaN           NaN  \n",
       "4                 NaN           NaN  \n",
       "...               ...           ...  \n",
       "359387            NaN           NaN  \n",
       "359388            NaN           NaN  \n",
       "359389            NaN           NaN  \n",
       "359390            NaN           NaN  \n",
       "359391            NaN           NaN  \n",
       "\n",
       "[359392 rows x 7 columns]"
      ]
     },
     "execution_count": 9,
     "metadata": {},
     "output_type": "execute_result"
    }
   ],
   "source": [
    "cab_df.mode(axis=0, numeric_only=False, dropna=True)"
   ]
  },
  {
   "cell_type": "markdown",
   "id": "a986cac1",
   "metadata": {},
   "source": [
    "### Calculate Skewness"
   ]
  },
  {
   "cell_type": "code",
   "execution_count": 10,
   "id": "cd406b8d",
   "metadata": {},
   "outputs": [
    {
     "data": {
      "text/plain": [
       "Transaction ID    0.000072\n",
       "Company           1.245382\n",
       "KM Travelled      0.055779\n",
       "Price Charged     0.873761\n",
       "Cost of Trip      0.137958\n",
       "dtype: float64"
      ]
     },
     "execution_count": 10,
     "metadata": {},
     "output_type": "execute_result"
    }
   ],
   "source": [
    "cab_df.skew()"
   ]
  },
  {
   "cell_type": "markdown",
   "id": "709cf977",
   "metadata": {},
   "source": [
    "### Calculate Kurtosis"
   ]
  },
  {
   "cell_type": "code",
   "execution_count": 11,
   "id": "47b0d177",
   "metadata": {},
   "outputs": [
    {
     "name": "stdout",
     "output_type": "stream",
     "text": [
      "Transaction ID   -1.198925\n",
      "Company          -0.449026\n",
      "KM Travelled     -1.126875\n",
      "Price Charged     0.747635\n",
      "Cost of Trip     -1.012233\n",
      "dtype: float64\n"
     ]
    }
   ],
   "source": [
    "kurt = cab_df.kurt(axis=0)\n",
    "print(kurt)"
   ]
  },
  {
   "cell_type": "markdown",
   "id": "af11e969",
   "metadata": {},
   "source": [
    "### Calculate Variance"
   ]
  },
  {
   "cell_type": "code",
   "execution_count": 12,
   "id": "65f2ff4e",
   "metadata": {},
   "outputs": [
    {
     "data": {
      "text/plain": [
       "Transaction ID    1.607967e+10\n",
       "Company           1.801489e-01\n",
       "KM Travelled      1.496587e+02\n",
       "Price Charged     7.528358e+04\n",
       "Cost of Trip      2.496193e+04\n",
       "dtype: float64"
      ]
     },
     "execution_count": 12,
     "metadata": {},
     "output_type": "execute_result"
    }
   ],
   "source": [
    "np.var(cab_df, axis = 0)"
   ]
  },
  {
   "cell_type": "markdown",
   "id": "89a9e973",
   "metadata": {},
   "source": [
    "### Drop object variables from calculations"
   ]
  },
  {
   "cell_type": "code",
   "execution_count": 13,
   "id": "dcef9e92",
   "metadata": {},
   "outputs": [],
   "source": [
    "cab_df_int = cab_df.drop(['Date of Travel', 'Company', 'City'], axis=1)"
   ]
  },
  {
   "cell_type": "code",
   "execution_count": 14,
   "id": "53b03842",
   "metadata": {},
   "outputs": [
    {
     "data": {
      "text/plain": [
       "Transaction ID      int64\n",
       "KM Travelled      float64\n",
       "Price Charged     float64\n",
       "Cost of Trip      float64\n",
       "dtype: object"
      ]
     },
     "execution_count": 14,
     "metadata": {},
     "output_type": "execute_result"
    }
   ],
   "source": [
    "cab_df_int.dtypes"
   ]
  },
  {
   "cell_type": "markdown",
   "id": "ef70135f",
   "metadata": {},
   "source": [
    "### Calculate Median"
   ]
  },
  {
   "cell_type": "code",
   "execution_count": 15,
   "id": "938df174",
   "metadata": {},
   "outputs": [
    {
     "name": "stdout",
     "output_type": "stream",
     "text": [
      "[1.02210355e+07 2.24400000e+01 3.86360000e+02 2.82480000e+02]\n"
     ]
    }
   ],
   "source": [
    "median_array = np.median(cab_df_int, axis=0)\n",
    "print(median_array)"
   ]
  },
  {
   "cell_type": "markdown",
   "id": "3574373c",
   "metadata": {},
   "source": [
    "### Calculate Frequency Bins"
   ]
  },
  {
   "cell_type": "code",
   "execution_count": 16,
   "id": "6d8448a6",
   "metadata": {},
   "outputs": [
    {
     "data": {
      "text/plain": [
       "array([[<AxesSubplot:title={'center':'KM Travelled'}>]], dtype=object)"
      ]
     },
     "execution_count": 16,
     "metadata": {},
     "output_type": "execute_result"
    },
    {
     "data": {
      "image/png": "[encoded data removed]",
      "text/plain": [
       "<Figure size 432x288 with 1 Axes>"
      ]
     },
     "metadata": {
      "needs_background": "light"
     },
     "output_type": "display_data"
    }
   ],
   "source": [
    "cab_df[['KM Travelled']].hist()"
   ]
  },
  {
   "cell_type": "code",
   "execution_count": 17,
   "id": "e93f1647",
   "metadata": {},
   "outputs": [
    {
     "data": {
      "text/plain": [
       "array([[<AxesSubplot:title={'center':'Price Charged'}>]], dtype=object)"
      ]
     },
     "execution_count": 17,
     "metadata": {},
     "output_type": "execute_result"
    },
    {
     "data": {
      "image/png": "[encoded data removed]",
      "text/plain": [
       "<Figure size 432x288 with 1 Axes>"
      ]
     },
     "metadata": {
      "needs_background": "light"
     },
     "output_type": "display_data"
    }
   ],
   "source": [
    "cab_df[['Price Charged']].hist()"
   ]
  },
  {
   "cell_type": "code",
   "execution_count": 18,
   "id": "d772dc9d",
   "metadata": {},
   "outputs": [
    {
     "data": {
      "text/plain": [
       "array([[<AxesSubplot:title={'center':'Cost of Trip'}>]], dtype=object)"
      ]
     },
     "execution_count": 18,
     "metadata": {},
     "output_type": "execute_result"
    },
    {
     "data": {
      "image/png": "[encoded data removed]",
      "text/plain": [
       "<Figure size 432x288 with 1 Axes>"
      ]
     },
     "metadata": {
      "needs_background": "light"
     },
     "output_type": "display_data"
    }
   ],
   "source": [
    "cab_df[['Cost of Trip']].hist()"
   ]
  },
  {
   "cell_type": "markdown",
   "id": "ccbf89c1",
   "metadata": {},
   "source": [
    "### Create Univariate Distribution Plots"
   ]
  },
  {
   "cell_type": "code",
   "execution_count": 19,
   "id": "71749576",
   "metadata": {},
   "outputs": [
    {
     "name": "stderr",
     "output_type": "stream",
     "text": [
      "C:\\Users\\Richard\\anaconda3\\lib\\site-packages\\seaborn\\distributions.py:2557: FutureWarning: `distplot` is a deprecated function and will be removed in a future version. Please adapt your code to use either `displot` (a figure-level function with similar flexibility) or `histplot` (an axes-level function for histograms).\n",
      "  warnings.warn(msg, FutureWarning)\n"
     ]
    },
    {
     "data": {
      "text/plain": [
       "<seaborn.axisgrid.FacetGrid at 0x228d04e9bb0>"
      ]
     },
     "execution_count": 19,
     "metadata": {},
     "output_type": "execute_result"
    },
    {
     "data": {
      "image/png": "[encoded data removed]",
      "text/plain": [
       "<Figure size 368x360 with 1 Axes>"
      ]
     },
     "metadata": {
      "needs_background": "light"
     },
     "output_type": "display_data"
    }
   ],
   "source": [
    "sns.FacetGrid(cab_df,height=5).map(sns.distplot,\"KM Travelled\").add_legend()"
   ]
  },
  {
   "cell_type": "code",
   "execution_count": 20,
   "id": "5915879c",
   "metadata": {},
   "outputs": [
    {
     "name": "stderr",
     "output_type": "stream",
     "text": [
      "C:\\Users\\Richard\\anaconda3\\lib\\site-packages\\seaborn\\distributions.py:2557: FutureWarning: `distplot` is a deprecated function and will be removed in a future version. Please adapt your code to use either `displot` (a figure-level function with similar flexibility) or `histplot` (an axes-level function for histograms).\n",
      "  warnings.warn(msg, FutureWarning)\n"
     ]
    },
    {
     "data": {
      "text/plain": [
       "<seaborn.axisgrid.FacetGrid at 0x228d290f460>"
      ]
     },
     "execution_count": 20,
     "metadata": {},
     "output_type": "execute_result"
    },
    {
     "data": {
      "image/png": "[encoded data removed]",
      "text/plain": [
       "<Figure size 368x360 with 1 Axes>"
      ]
     },
     "metadata": {
      "needs_background": "light"
     },
     "output_type": "display_data"
    }
   ],
   "source": [
    "sns.FacetGrid(cab_df,height=5).map(sns.distplot,\"Price Charged\").add_legend()"
   ]
  },
  {
   "cell_type": "code",
   "execution_count": 21,
   "id": "32af0494",
   "metadata": {},
   "outputs": [
    {
     "name": "stderr",
     "output_type": "stream",
     "text": [
      "C:\\Users\\Richard\\anaconda3\\lib\\site-packages\\seaborn\\distributions.py:2557: FutureWarning: `distplot` is a deprecated function and will be removed in a future version. Please adapt your code to use either `displot` (a figure-level function with similar flexibility) or `histplot` (an axes-level function for histograms).\n",
      "  warnings.warn(msg, FutureWarning)\n"
     ]
    },
    {
     "data": {
      "text/plain": [
       "<seaborn.axisgrid.FacetGrid at 0x228d01a9670>"
      ]
     },
     "execution_count": 21,
     "metadata": {},
     "output_type": "execute_result"
    },
    {
     "data": {
      "image/png": "[encoded data removed]",
      "text/plain": [
       "<Figure size 368x360 with 1 Axes>"
      ]
     },
     "metadata": {
      "needs_background": "light"
     },
     "output_type": "display_data"
    }
   ],
   "source": [
    "sns.FacetGrid(cab_df,height=5).map(sns.distplot,\"Cost of Trip\").add_legend()"
   ]
  },
  {
   "cell_type": "markdown",
   "id": "75993832",
   "metadata": {},
   "source": [
    "### Boxplots"
   ]
  },
  {
   "cell_type": "code",
   "execution_count": 22,
   "id": "97d77b5f",
   "metadata": {},
   "outputs": [
    {
     "data": {
      "image/png": "[encoded data removed]",
      "text/plain": [
       "<Figure size 432x288 with 1 Axes>"
      ]
     },
     "metadata": {
      "needs_background": "light"
     },
     "output_type": "display_data"
    }
   ],
   "source": [
    "sns.boxplot(x=\"KM Travelled\",data=cab_df)\n",
    "plt.show()"
   ]
  },
  {
   "cell_type": "code",
   "execution_count": 23,
   "id": "e6d94140",
   "metadata": {},
   "outputs": [
    {
     "data": {
      "image/png": "[encoded data removed]",
      "text/plain": [
       "<Figure size 432x288 with 1 Axes>"
      ]
     },
     "metadata": {
      "needs_background": "light"
     },
     "output_type": "display_data"
    }
   ],
   "source": [
    "sns.boxplot(x=\"Price Charged\",data=cab_df)\n",
    "plt.show()"
   ]
  },
  {
   "cell_type": "code",
   "execution_count": 24,
   "id": "016b5be2",
   "metadata": {},
   "outputs": [
    {
     "data": {
      "image/png": "[encoded data removed]",
      "text/plain": [
       "<Figure size 432x288 with 1 Axes>"
      ]
     },
     "metadata": {
      "needs_background": "light"
     },
     "output_type": "display_data"
    }
   ],
   "source": [
    "sns.boxplot(x=\"Cost of Trip\",data=cab_df)\n",
    "plt.show()"
   ]
  },
  {
   "cell_type": "markdown",
   "id": "666bbb20",
   "metadata": {},
   "source": [
    "# Customer Exploratory Data Analysis"
   ]
  },
  {
   "cell_type": "markdown",
   "id": "1a310d0a",
   "metadata": {},
   "source": [
    "### View Headers"
   ]
  },
  {
   "cell_type": "code",
   "execution_count": 25,
   "id": "697b8b04",
   "metadata": {},
   "outputs": [
    {
     "data": {
      "text/html": [
       "<div>\n",
       "<style scoped>\n",
       "    .dataframe tbody tr th:only-of-type {\n",
       "        vertical-align: middle;\n",
       "    }\n",
       "\n",
       "    .dataframe tbody tr th {\n",
       "        vertical-align: top;\n",
       "    }\n",
       "\n",
       "    .dataframe thead th {\n",
       "        text-align: right;\n",
       "    }\n",
       "</style>\n",
       "<table border=\"1\" class=\"dataframe\">\n",
       "  <thead>\n",
       "    <tr style=\"text-align: right;\">\n",
       "      <th></th>\n",
       "      <th>Customer ID</th>\n",
       "      <th>Gender</th>\n",
       "      <th>Age</th>\n",
       "      <th>Income (USD/Month)</th>\n",
       "    </tr>\n",
       "  </thead>\n",
       "  <tbody>\n",
       "    <tr>\n",
       "      <th>0</th>\n",
       "      <td>29290</td>\n",
       "      <td>1</td>\n",
       "      <td>28</td>\n",
       "      <td>10813</td>\n",
       "    </tr>\n",
       "    <tr>\n",
       "      <th>1</th>\n",
       "      <td>27703</td>\n",
       "      <td>1</td>\n",
       "      <td>27</td>\n",
       "      <td>9237</td>\n",
       "    </tr>\n",
       "    <tr>\n",
       "      <th>2</th>\n",
       "      <td>28712</td>\n",
       "      <td>1</td>\n",
       "      <td>53</td>\n",
       "      <td>11242</td>\n",
       "    </tr>\n",
       "    <tr>\n",
       "      <th>3</th>\n",
       "      <td>28020</td>\n",
       "      <td>1</td>\n",
       "      <td>23</td>\n",
       "      <td>23327</td>\n",
       "    </tr>\n",
       "    <tr>\n",
       "      <th>4</th>\n",
       "      <td>27182</td>\n",
       "      <td>1</td>\n",
       "      <td>33</td>\n",
       "      <td>8536</td>\n",
       "    </tr>\n",
       "  </tbody>\n",
       "</table>\n",
       "</div>"
      ],
      "text/plain": [
       "   Customer ID  Gender  Age  Income (USD/Month)\n",
       "0        29290       1   28               10813\n",
       "1        27703       1   27                9237\n",
       "2        28712       1   53               11242\n",
       "3        28020       1   23               23327\n",
       "4        27182       1   33                8536"
      ]
     },
     "execution_count": 25,
     "metadata": {},
     "output_type": "execute_result"
    }
   ],
   "source": [
    "customer_id.head()"
   ]
  },
  {
   "cell_type": "markdown",
   "id": "9c595df0",
   "metadata": {},
   "source": [
    "### Verify Data Types"
   ]
  },
  {
   "cell_type": "code",
   "execution_count": 26,
   "id": "66452ba7",
   "metadata": {},
   "outputs": [
    {
     "data": {
      "text/plain": [
       "Customer ID           int64\n",
       "Gender                int64\n",
       "Age                   int64\n",
       "Income (USD/Month)    int64\n",
       "dtype: object"
      ]
     },
     "execution_count": 26,
     "metadata": {},
     "output_type": "execute_result"
    }
   ],
   "source": [
    "customer_id.dtypes"
   ]
  },
  {
   "cell_type": "markdown",
   "id": "b7e073d0",
   "metadata": {},
   "source": [
    "### Check for null values"
   ]
  },
  {
   "cell_type": "code",
   "execution_count": 27,
   "id": "f4f148e0",
   "metadata": {},
   "outputs": [
    {
     "data": {
      "text/plain": [
       "Customer ID           0\n",
       "Gender                0\n",
       "Age                   0\n",
       "Income (USD/Month)    0\n",
       "dtype: int64"
      ]
     },
     "execution_count": 27,
     "metadata": {},
     "output_type": "execute_result"
    }
   ],
   "source": [
    "customer_id.isnull().sum()"
   ]
  },
  {
   "cell_type": "markdown",
   "id": "babb6d0a",
   "metadata": {},
   "source": [
    "### Remove Duplicates"
   ]
  },
  {
   "cell_type": "code",
   "execution_count": 28,
   "id": "a972ccc2",
   "metadata": {},
   "outputs": [],
   "source": [
    "customer_id = customer_id.drop_duplicates()"
   ]
  },
  {
   "cell_type": "markdown",
   "id": "0913e629",
   "metadata": {},
   "source": [
    "### Calculate five-number summary including interquartile range"
   ]
  },
  {
   "cell_type": "code",
   "execution_count": 29,
   "id": "c171ef44",
   "metadata": {},
   "outputs": [
    {
     "data": {
      "text/html": [
       "<div>\n",
       "<style scoped>\n",
       "    .dataframe tbody tr th:only-of-type {\n",
       "        vertical-align: middle;\n",
       "    }\n",
       "\n",
       "    .dataframe tbody tr th {\n",
       "        vertical-align: top;\n",
       "    }\n",
       "\n",
       "    .dataframe thead th {\n",
       "        text-align: right;\n",
       "    }\n",
       "</style>\n",
       "<table border=\"1\" class=\"dataframe\">\n",
       "  <thead>\n",
       "    <tr style=\"text-align: right;\">\n",
       "      <th></th>\n",
       "      <th>Customer ID</th>\n",
       "      <th>Gender</th>\n",
       "      <th>Age</th>\n",
       "      <th>Income (USD/Month)</th>\n",
       "    </tr>\n",
       "  </thead>\n",
       "  <tbody>\n",
       "    <tr>\n",
       "      <th>count</th>\n",
       "      <td>49171.000000</td>\n",
       "      <td>49171.000000</td>\n",
       "      <td>49171.000000</td>\n",
       "      <td>49171.000000</td>\n",
       "    </tr>\n",
       "    <tr>\n",
       "      <th>mean</th>\n",
       "      <td>28398.252283</td>\n",
       "      <td>1.459804</td>\n",
       "      <td>35.363121</td>\n",
       "      <td>15015.631856</td>\n",
       "    </tr>\n",
       "    <tr>\n",
       "      <th>std</th>\n",
       "      <td>17714.137333</td>\n",
       "      <td>0.498387</td>\n",
       "      <td>12.599066</td>\n",
       "      <td>8002.208253</td>\n",
       "    </tr>\n",
       "    <tr>\n",
       "      <th>min</th>\n",
       "      <td>1.000000</td>\n",
       "      <td>1.000000</td>\n",
       "      <td>18.000000</td>\n",
       "      <td>2000.000000</td>\n",
       "    </tr>\n",
       "    <tr>\n",
       "      <th>25%</th>\n",
       "      <td>12654.500000</td>\n",
       "      <td>1.000000</td>\n",
       "      <td>25.000000</td>\n",
       "      <td>8289.500000</td>\n",
       "    </tr>\n",
       "    <tr>\n",
       "      <th>50%</th>\n",
       "      <td>27631.000000</td>\n",
       "      <td>1.000000</td>\n",
       "      <td>33.000000</td>\n",
       "      <td>14656.000000</td>\n",
       "    </tr>\n",
       "    <tr>\n",
       "      <th>75%</th>\n",
       "      <td>43284.500000</td>\n",
       "      <td>2.000000</td>\n",
       "      <td>42.000000</td>\n",
       "      <td>21035.000000</td>\n",
       "    </tr>\n",
       "    <tr>\n",
       "      <th>max</th>\n",
       "      <td>60000.000000</td>\n",
       "      <td>2.000000</td>\n",
       "      <td>65.000000</td>\n",
       "      <td>35000.000000</td>\n",
       "    </tr>\n",
       "  </tbody>\n",
       "</table>\n",
       "</div>"
      ],
      "text/plain": [
       "        Customer ID        Gender           Age  Income (USD/Month)\n",
       "count  49171.000000  49171.000000  49171.000000        49171.000000\n",
       "mean   28398.252283      1.459804     35.363121        15015.631856\n",
       "std    17714.137333      0.498387     12.599066         8002.208253\n",
       "min        1.000000      1.000000     18.000000         2000.000000\n",
       "25%    12654.500000      1.000000     25.000000         8289.500000\n",
       "50%    27631.000000      1.000000     33.000000        14656.000000\n",
       "75%    43284.500000      2.000000     42.000000        21035.000000\n",
       "max    60000.000000      2.000000     65.000000        35000.000000"
      ]
     },
     "execution_count": 29,
     "metadata": {},
     "output_type": "execute_result"
    }
   ],
   "source": [
    "customer_id.describe()"
   ]
  },
  {
   "cell_type": "markdown",
   "id": "08fe6631",
   "metadata": {},
   "source": [
    "### Calculate Standard Deviation"
   ]
  },
  {
   "cell_type": "code",
   "execution_count": 30,
   "id": "c42a1bc1",
   "metadata": {},
   "outputs": [
    {
     "data": {
      "text/plain": [
       "Customer ID           17714.137333\n",
       "Gender                    0.498387\n",
       "Age                      12.599066\n",
       "Income (USD/Month)     8002.208253\n",
       "dtype: float64"
      ]
     },
     "execution_count": 30,
     "metadata": {},
     "output_type": "execute_result"
    }
   ],
   "source": [
    "customer_id.std()"
   ]
  },
  {
   "cell_type": "markdown",
   "id": "54b0e72f",
   "metadata": {},
   "source": [
    "### Calculate Mode"
   ]
  },
  {
   "cell_type": "code",
   "execution_count": 31,
   "id": "00f7b4f4",
   "metadata": {},
   "outputs": [
    {
     "data": {
      "text/html": [
       "<div>\n",
       "<style scoped>\n",
       "    .dataframe tbody tr th:only-of-type {\n",
       "        vertical-align: middle;\n",
       "    }\n",
       "\n",
       "    .dataframe tbody tr th {\n",
       "        vertical-align: top;\n",
       "    }\n",
       "\n",
       "    .dataframe thead th {\n",
       "        text-align: right;\n",
       "    }\n",
       "</style>\n",
       "<table border=\"1\" class=\"dataframe\">\n",
       "  <thead>\n",
       "    <tr style=\"text-align: right;\">\n",
       "      <th></th>\n",
       "      <th>Customer ID</th>\n",
       "      <th>Gender</th>\n",
       "      <th>Age</th>\n",
       "      <th>Income (USD/Month)</th>\n",
       "    </tr>\n",
       "  </thead>\n",
       "  <tbody>\n",
       "    <tr>\n",
       "      <th>0</th>\n",
       "      <td>1</td>\n",
       "      <td>1.0</td>\n",
       "      <td>20.0</td>\n",
       "      <td>8497.0</td>\n",
       "    </tr>\n",
       "    <tr>\n",
       "      <th>1</th>\n",
       "      <td>2</td>\n",
       "      <td>NaN</td>\n",
       "      <td>NaN</td>\n",
       "      <td>NaN</td>\n",
       "    </tr>\n",
       "    <tr>\n",
       "      <th>2</th>\n",
       "      <td>3</td>\n",
       "      <td>NaN</td>\n",
       "      <td>NaN</td>\n",
       "      <td>NaN</td>\n",
       "    </tr>\n",
       "    <tr>\n",
       "      <th>3</th>\n",
       "      <td>4</td>\n",
       "      <td>NaN</td>\n",
       "      <td>NaN</td>\n",
       "      <td>NaN</td>\n",
       "    </tr>\n",
       "    <tr>\n",
       "      <th>4</th>\n",
       "      <td>5</td>\n",
       "      <td>NaN</td>\n",
       "      <td>NaN</td>\n",
       "      <td>NaN</td>\n",
       "    </tr>\n",
       "    <tr>\n",
       "      <th>...</th>\n",
       "      <td>...</td>\n",
       "      <td>...</td>\n",
       "      <td>...</td>\n",
       "      <td>...</td>\n",
       "    </tr>\n",
       "    <tr>\n",
       "      <th>49166</th>\n",
       "      <td>59996</td>\n",
       "      <td>NaN</td>\n",
       "      <td>NaN</td>\n",
       "      <td>NaN</td>\n",
       "    </tr>\n",
       "    <tr>\n",
       "      <th>49167</th>\n",
       "      <td>59997</td>\n",
       "      <td>NaN</td>\n",
       "      <td>NaN</td>\n",
       "      <td>NaN</td>\n",
       "    </tr>\n",
       "    <tr>\n",
       "      <th>49168</th>\n",
       "      <td>59998</td>\n",
       "      <td>NaN</td>\n",
       "      <td>NaN</td>\n",
       "      <td>NaN</td>\n",
       "    </tr>\n",
       "    <tr>\n",
       "      <th>49169</th>\n",
       "      <td>59999</td>\n",
       "      <td>NaN</td>\n",
       "      <td>NaN</td>\n",
       "      <td>NaN</td>\n",
       "    </tr>\n",
       "    <tr>\n",
       "      <th>49170</th>\n",
       "      <td>60000</td>\n",
       "      <td>NaN</td>\n",
       "      <td>NaN</td>\n",
       "      <td>NaN</td>\n",
       "    </tr>\n",
       "  </tbody>\n",
       "</table>\n",
       "<p>49171 rows × 4 columns</p>\n",
       "</div>"
      ],
      "text/plain": [
       "       Customer ID  Gender   Age  Income (USD/Month)\n",
       "0                1     1.0  20.0              8497.0\n",
       "1                2     NaN   NaN                 NaN\n",
       "2                3     NaN   NaN                 NaN\n",
       "3                4     NaN   NaN                 NaN\n",
       "4                5     NaN   NaN                 NaN\n",
       "...            ...     ...   ...                 ...\n",
       "49166        59996     NaN   NaN                 NaN\n",
       "49167        59997     NaN   NaN                 NaN\n",
       "49168        59998     NaN   NaN                 NaN\n",
       "49169        59999     NaN   NaN                 NaN\n",
       "49170        60000     NaN   NaN                 NaN\n",
       "\n",
       "[49171 rows x 4 columns]"
      ]
     },
     "execution_count": 31,
     "metadata": {},
     "output_type": "execute_result"
    }
   ],
   "source": [
    "customer_id.mode(axis=0, numeric_only=False, dropna=True)"
   ]
  },
  {
   "cell_type": "markdown",
   "id": "17fe59a8",
   "metadata": {},
   "source": [
    "### Calculate Skewness"
   ]
  },
  {
   "cell_type": "code",
   "execution_count": 32,
   "id": "24bc0092",
   "metadata": {},
   "outputs": [
    {
     "data": {
      "text/plain": [
       "Customer ID           0.141494\n",
       "Gender                0.161313\n",
       "Age                   0.685934\n",
       "Income (USD/Month)    0.313148\n",
       "dtype: float64"
      ]
     },
     "execution_count": 32,
     "metadata": {},
     "output_type": "execute_result"
    }
   ],
   "source": [
    "customer_id.skew()"
   ]
  },
  {
   "cell_type": "markdown",
   "id": "cff4bb06",
   "metadata": {},
   "source": [
    "### Calculate Kurtosis"
   ]
  },
  {
   "cell_type": "code",
   "execution_count": 33,
   "id": "379300e9",
   "metadata": {},
   "outputs": [
    {
     "name": "stdout",
     "output_type": "stream",
     "text": [
      "Customer ID          -1.192502\n",
      "Gender               -1.974058\n",
      "Age                  -0.451938\n",
      "Income (USD/Month)   -0.672325\n",
      "dtype: float64\n"
     ]
    }
   ],
   "source": [
    "c_kurt = customer_id.kurt(axis=0)\n",
    "print(c_kurt)"
   ]
  },
  {
   "cell_type": "markdown",
   "id": "f67b20a0",
   "metadata": {},
   "source": [
    "### Calculate Variance"
   ]
  },
  {
   "cell_type": "code",
   "execution_count": 34,
   "id": "0b8d353b",
   "metadata": {},
   "outputs": [
    {
     "data": {
      "text/plain": [
       "Customer ID           3.137843e+08\n",
       "Gender                2.483842e-01\n",
       "Age                   1.587332e+02\n",
       "Income (USD/Month)    6.403403e+07\n",
       "dtype: float64"
      ]
     },
     "execution_count": 34,
     "metadata": {},
     "output_type": "execute_result"
    }
   ],
   "source": [
    "np.var(customer_id, axis=0)"
   ]
  },
  {
   "cell_type": "markdown",
   "id": "4f3c8b61",
   "metadata": {},
   "source": [
    "### Calculate Median"
   ]
  },
  {
   "cell_type": "code",
   "execution_count": 35,
   "id": "cb3c0a60",
   "metadata": {},
   "outputs": [
    {
     "data": {
      "text/plain": [
       "array([2.7631e+04, 1.0000e+00, 3.3000e+01, 1.4656e+04])"
      ]
     },
     "execution_count": 35,
     "metadata": {},
     "output_type": "execute_result"
    }
   ],
   "source": [
    "np.median(customer_id, axis = 0)"
   ]
  },
  {
   "cell_type": "markdown",
   "id": "444a1571",
   "metadata": {},
   "source": [
    "### Calculate Frequency Bins"
   ]
  },
  {
   "cell_type": "code",
   "execution_count": 36,
   "id": "986d0440",
   "metadata": {},
   "outputs": [
    {
     "data": {
      "text/plain": [
       "array([[<AxesSubplot:title={'center':'Gender'}>]], dtype=object)"
      ]
     },
     "execution_count": 36,
     "metadata": {},
     "output_type": "execute_result"
    },
    {
     "data": {
      "image/png": "[encoded data removed]",
      "text/plain": [
       "<Figure size 432x288 with 1 Axes>"
      ]
     },
     "metadata": {
      "needs_background": "light"
     },
     "output_type": "display_data"
    }
   ],
   "source": [
    "customer_id[[\"Gender\"]].hist()"
   ]
  },
  {
   "cell_type": "code",
   "execution_count": 37,
   "id": "8d733136",
   "metadata": {},
   "outputs": [
    {
     "data": {
      "text/plain": [
       "array([[<AxesSubplot:title={'center':'Age'}>]], dtype=object)"
      ]
     },
     "execution_count": 37,
     "metadata": {},
     "output_type": "execute_result"
    },
    {
     "data": {
      "image/png": "[encoded data removed]",
      "text/plain": [
       "<Figure size 432x288 with 1 Axes>"
      ]
     },
     "metadata": {
      "needs_background": "light"
     },
     "output_type": "display_data"
    }
   ],
   "source": [
    "customer_id[[\"Age\"]].hist()"
   ]
  },
  {
   "cell_type": "code",
   "execution_count": 38,
   "id": "5fccf01f",
   "metadata": {},
   "outputs": [
    {
     "data": {
      "text/plain": [
       "array([[<AxesSubplot:title={'center':'Income (USD/Month)'}>]],\n",
       "      dtype=object)"
      ]
     },
     "execution_count": 38,
     "metadata": {},
     "output_type": "execute_result"
    },
    {
     "data": {
      "image/png": "[encoded data removed]",
      "text/plain": [
       "<Figure size 432x288 with 1 Axes>"
      ]
     },
     "metadata": {
      "needs_background": "light"
     },
     "output_type": "display_data"
    }
   ],
   "source": [
    "customer_id[[\"Income (USD/Month)\"]].hist()"
   ]
  },
  {
   "cell_type": "markdown",
   "id": "43dd8e00",
   "metadata": {},
   "source": [
    "### Create Univariate Distribution Plots"
   ]
  },
  {
   "cell_type": "code",
   "execution_count": 39,
   "id": "a2a21712",
   "metadata": {},
   "outputs": [
    {
     "name": "stderr",
     "output_type": "stream",
     "text": [
      "C:\\Users\\Richard\\anaconda3\\lib\\site-packages\\seaborn\\distributions.py:2557: FutureWarning: `distplot` is a deprecated function and will be removed in a future version. Please adapt your code to use either `displot` (a figure-level function with similar flexibility) or `histplot` (an axes-level function for histograms).\n",
      "  warnings.warn(msg, FutureWarning)\n"
     ]
    },
    {
     "data": {
      "text/plain": [
       "<seaborn.axisgrid.FacetGrid at 0x228d2fb0820>"
      ]
     },
     "execution_count": 39,
     "metadata": {},
     "output_type": "execute_result"
    },
    {
     "data": {
      "image/png": "[encoded data removed]",
      "text/plain": [
       "<Figure size 368x360 with 1 Axes>"
      ]
     },
     "metadata": {
      "needs_background": "light"
     },
     "output_type": "display_data"
    }
   ],
   "source": [
    "sns.FacetGrid(customer_id,height=5).map(sns.distplot,\"Gender\").add_legend()"
   ]
  },
  {
   "cell_type": "code",
   "execution_count": 40,
   "id": "ce43bb3c",
   "metadata": {},
   "outputs": [
    {
     "name": "stderr",
     "output_type": "stream",
     "text": [
      "C:\\Users\\Richard\\anaconda3\\lib\\site-packages\\seaborn\\distributions.py:2557: FutureWarning: `distplot` is a deprecated function and will be removed in a future version. Please adapt your code to use either `displot` (a figure-level function with similar flexibility) or `histplot` (an axes-level function for histograms).\n",
      "  warnings.warn(msg, FutureWarning)\n"
     ]
    },
    {
     "data": {
      "text/plain": [
       "<seaborn.axisgrid.FacetGrid at 0x228d3b7f160>"
      ]
     },
     "execution_count": 40,
     "metadata": {},
     "output_type": "execute_result"
    },
    {
     "data": {
      "image/png": "[encoded data removed]",
      "text/plain": [
       "<Figure size 368x360 with 1 Axes>"
      ]
     },
     "metadata": {
      "needs_background": "light"
     },
     "output_type": "display_data"
    }
   ],
   "source": [
    "sns.FacetGrid(customer_id,height=5).map(sns.distplot,\"Age\").add_legend()"
   ]
  },
  {
   "cell_type": "code",
   "execution_count": 41,
   "id": "6665bdbf",
   "metadata": {},
   "outputs": [
    {
     "name": "stderr",
     "output_type": "stream",
     "text": [
      "C:\\Users\\Richard\\anaconda3\\lib\\site-packages\\seaborn\\distributions.py:2557: FutureWarning: `distplot` is a deprecated function and will be removed in a future version. Please adapt your code to use either `displot` (a figure-level function with similar flexibility) or `histplot` (an axes-level function for histograms).\n",
      "  warnings.warn(msg, FutureWarning)\n"
     ]
    },
    {
     "data": {
      "text/plain": [
       "<seaborn.axisgrid.FacetGrid at 0x228d303b520>"
      ]
     },
     "execution_count": 41,
     "metadata": {},
     "output_type": "execute_result"
    },
    {
     "data": {
      "image/png": "[encoded data removed]",
      "text/plain": [
       "<Figure size 368x360 with 1 Axes>"
      ]
     },
     "metadata": {
      "needs_background": "light"
     },
     "output_type": "display_data"
    }
   ],
   "source": [
    "sns.FacetGrid(customer_id,height=5).map(sns.distplot,\"Income (USD/Month)\").add_legend()"
   ]
  },
  {
   "cell_type": "markdown",
   "id": "591084a3",
   "metadata": {},
   "source": [
    "### Boxplots"
   ]
  },
  {
   "cell_type": "code",
   "execution_count": 42,
   "id": "fa85d5c7",
   "metadata": {},
   "outputs": [
    {
     "data": {
      "text/plain": [
       "<AxesSubplot:xlabel='Gender'>"
      ]
     },
     "execution_count": 42,
     "metadata": {},
     "output_type": "execute_result"
    },
    {
     "data": {
      "image/png": "[encoded data removed]",
      "text/plain": [
       "<Figure size 432x288 with 1 Axes>"
      ]
     },
     "metadata": {
      "needs_background": "light"
     },
     "output_type": "display_data"
    }
   ],
   "source": [
    "sns.boxplot(x=\"Gender\",data=customer_id)"
   ]
  },
  {
   "cell_type": "code",
   "execution_count": 43,
   "id": "6046f012",
   "metadata": {},
   "outputs": [
    {
     "data": {
      "text/plain": [
       "<AxesSubplot:xlabel='Age'>"
      ]
     },
     "execution_count": 43,
     "metadata": {},
     "output_type": "execute_result"
    },
    {
     "data": {
      "image/png": "[encoded data removed]",
      "text/plain": [
       "<Figure size 432x288 with 1 Axes>"
      ]
     },
     "metadata": {
      "needs_background": "light"
     },
     "output_type": "display_data"
    }
   ],
   "source": [
    "sns.boxplot(x=\"Age\",data=customer_id)"
   ]
  },
  {
   "cell_type": "code",
   "execution_count": 44,
   "id": "d183f685",
   "metadata": {},
   "outputs": [
    {
     "data": {
      "text/plain": [
       "<AxesSubplot:xlabel='Income (USD/Month)'>"
      ]
     },
     "execution_count": 44,
     "metadata": {},
     "output_type": "execute_result"
    },
    {
     "data": {
      "image/png": "[encoded data removed]",
      "text/plain": [
       "<Figure size 432x288 with 1 Axes>"
      ]
     },
     "metadata": {
      "needs_background": "light"
     },
     "output_type": "display_data"
    }
   ],
   "source": [
    "sns.boxplot(x=\"Income (USD/Month)\",data=customer_id)"
   ]
  },
  {
   "cell_type": "markdown",
   "id": "984cfee5",
   "metadata": {},
   "source": [
    "# Transaction Exploratory Data Analysis"
   ]
  },
  {
   "cell_type": "markdown",
   "id": "7d907ecc",
   "metadata": {},
   "source": [
    "### View Headers"
   ]
  },
  {
   "cell_type": "code",
   "execution_count": 45,
   "id": "0d563ffc",
   "metadata": {},
   "outputs": [
    {
     "data": {
      "text/html": [
       "<div>\n",
       "<style scoped>\n",
       "    .dataframe tbody tr th:only-of-type {\n",
       "        vertical-align: middle;\n",
       "    }\n",
       "\n",
       "    .dataframe tbody tr th {\n",
       "        vertical-align: top;\n",
       "    }\n",
       "\n",
       "    .dataframe thead th {\n",
       "        text-align: right;\n",
       "    }\n",
       "</style>\n",
       "<table border=\"1\" class=\"dataframe\">\n",
       "  <thead>\n",
       "    <tr style=\"text-align: right;\">\n",
       "      <th></th>\n",
       "      <th>Transaction ID</th>\n",
       "      <th>Customer ID</th>\n",
       "      <th>Payment_Mode</th>\n",
       "    </tr>\n",
       "  </thead>\n",
       "  <tbody>\n",
       "    <tr>\n",
       "      <th>0</th>\n",
       "      <td>10065547</td>\n",
       "      <td>7594</td>\n",
       "      <td>1</td>\n",
       "    </tr>\n",
       "    <tr>\n",
       "      <th>1</th>\n",
       "      <td>10065548</td>\n",
       "      <td>6490</td>\n",
       "      <td>1</td>\n",
       "    </tr>\n",
       "    <tr>\n",
       "      <th>2</th>\n",
       "      <td>10065549</td>\n",
       "      <td>8173</td>\n",
       "      <td>2</td>\n",
       "    </tr>\n",
       "    <tr>\n",
       "      <th>3</th>\n",
       "      <td>10065550</td>\n",
       "      <td>8191</td>\n",
       "      <td>2</td>\n",
       "    </tr>\n",
       "    <tr>\n",
       "      <th>4</th>\n",
       "      <td>10065551</td>\n",
       "      <td>7091</td>\n",
       "      <td>1</td>\n",
       "    </tr>\n",
       "  </tbody>\n",
       "</table>\n",
       "</div>"
      ],
      "text/plain": [
       "   Transaction ID  Customer ID  Payment_Mode\n",
       "0        10065547         7594             1\n",
       "1        10065548         6490             1\n",
       "2        10065549         8173             2\n",
       "3        10065550         8191             2\n",
       "4        10065551         7091             1"
      ]
     },
     "execution_count": 45,
     "metadata": {},
     "output_type": "execute_result"
    }
   ],
   "source": [
    "transaction_id.head()"
   ]
  },
  {
   "cell_type": "markdown",
   "id": "8f7b2e11",
   "metadata": {},
   "source": [
    "### Verify Data Types"
   ]
  },
  {
   "cell_type": "code",
   "execution_count": 46,
   "id": "ae7701d4",
   "metadata": {},
   "outputs": [
    {
     "data": {
      "text/plain": [
       "Transaction ID    int64\n",
       "Customer ID       int64\n",
       "Payment_Mode      int64\n",
       "dtype: object"
      ]
     },
     "execution_count": 46,
     "metadata": {},
     "output_type": "execute_result"
    }
   ],
   "source": [
    "transaction_id.dtypes"
   ]
  },
  {
   "cell_type": "markdown",
   "id": "bd3d745e",
   "metadata": {},
   "source": [
    "### Check for Null Values"
   ]
  },
  {
   "cell_type": "code",
   "execution_count": 47,
   "id": "e1d0ec59",
   "metadata": {},
   "outputs": [
    {
     "data": {
      "text/plain": [
       "Transaction ID    0\n",
       "Customer ID       0\n",
       "Payment_Mode      0\n",
       "dtype: int64"
      ]
     },
     "execution_count": 47,
     "metadata": {},
     "output_type": "execute_result"
    }
   ],
   "source": [
    "transaction_id.isnull().sum()"
   ]
  },
  {
   "cell_type": "markdown",
   "id": "05a29b95",
   "metadata": {},
   "source": [
    "### Remove Duplicates"
   ]
  },
  {
   "cell_type": "code",
   "execution_count": 48,
   "id": "888568ba",
   "metadata": {},
   "outputs": [],
   "source": [
    "transaction_id = transaction_id.drop_duplicates()"
   ]
  },
  {
   "cell_type": "markdown",
   "id": "6a1e4f72",
   "metadata": {},
   "source": [
    "### Calculate five-number summary including interquartile range"
   ]
  },
  {
   "cell_type": "code",
   "execution_count": 49,
   "id": "fe72382e",
   "metadata": {},
   "outputs": [
    {
     "data": {
      "text/html": [
       "<div>\n",
       "<style scoped>\n",
       "    .dataframe tbody tr th:only-of-type {\n",
       "        vertical-align: middle;\n",
       "    }\n",
       "\n",
       "    .dataframe tbody tr th {\n",
       "        vertical-align: top;\n",
       "    }\n",
       "\n",
       "    .dataframe thead th {\n",
       "        text-align: right;\n",
       "    }\n",
       "</style>\n",
       "<table border=\"1\" class=\"dataframe\">\n",
       "  <thead>\n",
       "    <tr style=\"text-align: right;\">\n",
       "      <th></th>\n",
       "      <th>Transaction ID</th>\n",
       "      <th>Customer ID</th>\n",
       "      <th>Payment_Mode</th>\n",
       "    </tr>\n",
       "  </thead>\n",
       "  <tbody>\n",
       "    <tr>\n",
       "      <th>count</th>\n",
       "      <td>4.400980e+05</td>\n",
       "      <td>440098.000000</td>\n",
       "      <td>440098.000000</td>\n",
       "    </tr>\n",
       "    <tr>\n",
       "      <th>mean</th>\n",
       "      <td>1.022006e+07</td>\n",
       "      <td>23619.513120</td>\n",
       "      <td>1.400154</td>\n",
       "    </tr>\n",
       "    <tr>\n",
       "      <th>std</th>\n",
       "      <td>1.270455e+05</td>\n",
       "      <td>21195.549816</td>\n",
       "      <td>0.489930</td>\n",
       "    </tr>\n",
       "    <tr>\n",
       "      <th>min</th>\n",
       "      <td>1.000001e+07</td>\n",
       "      <td>1.000000</td>\n",
       "      <td>1.000000</td>\n",
       "    </tr>\n",
       "    <tr>\n",
       "      <th>25%</th>\n",
       "      <td>1.011004e+07</td>\n",
       "      <td>3530.000000</td>\n",
       "      <td>1.000000</td>\n",
       "    </tr>\n",
       "    <tr>\n",
       "      <th>50%</th>\n",
       "      <td>1.022006e+07</td>\n",
       "      <td>15168.000000</td>\n",
       "      <td>1.000000</td>\n",
       "    </tr>\n",
       "    <tr>\n",
       "      <th>75%</th>\n",
       "      <td>1.033008e+07</td>\n",
       "      <td>43884.000000</td>\n",
       "      <td>2.000000</td>\n",
       "    </tr>\n",
       "    <tr>\n",
       "      <th>max</th>\n",
       "      <td>1.044011e+07</td>\n",
       "      <td>60000.000000</td>\n",
       "      <td>2.000000</td>\n",
       "    </tr>\n",
       "  </tbody>\n",
       "</table>\n",
       "</div>"
      ],
      "text/plain": [
       "       Transaction ID    Customer ID   Payment_Mode\n",
       "count    4.400980e+05  440098.000000  440098.000000\n",
       "mean     1.022006e+07   23619.513120       1.400154\n",
       "std      1.270455e+05   21195.549816       0.489930\n",
       "min      1.000001e+07       1.000000       1.000000\n",
       "25%      1.011004e+07    3530.000000       1.000000\n",
       "50%      1.022006e+07   15168.000000       1.000000\n",
       "75%      1.033008e+07   43884.000000       2.000000\n",
       "max      1.044011e+07   60000.000000       2.000000"
      ]
     },
     "execution_count": 49,
     "metadata": {},
     "output_type": "execute_result"
    }
   ],
   "source": [
    "transaction_id.describe()"
   ]
  },
  {
   "cell_type": "markdown",
   "id": "c42285ee",
   "metadata": {},
   "source": [
    "### Calculate Standard Deviation"
   ]
  },
  {
   "cell_type": "code",
   "execution_count": 50,
   "id": "fb852de7",
   "metadata": {},
   "outputs": [
    {
     "data": {
      "text/plain": [
       "Transaction ID    127045.493722\n",
       "Customer ID        21195.549816\n",
       "Payment_Mode           0.489930\n",
       "dtype: float64"
      ]
     },
     "execution_count": 50,
     "metadata": {},
     "output_type": "execute_result"
    }
   ],
   "source": [
    "transaction_id.std()"
   ]
  },
  {
   "cell_type": "markdown",
   "id": "20eaafdc",
   "metadata": {},
   "source": [
    "### Calculate Mode"
   ]
  },
  {
   "cell_type": "code",
   "execution_count": 51,
   "id": "60aa6db5",
   "metadata": {},
   "outputs": [
    {
     "data": {
      "text/html": [
       "<div>\n",
       "<style scoped>\n",
       "    .dataframe tbody tr th:only-of-type {\n",
       "        vertical-align: middle;\n",
       "    }\n",
       "\n",
       "    .dataframe tbody tr th {\n",
       "        vertical-align: top;\n",
       "    }\n",
       "\n",
       "    .dataframe thead th {\n",
       "        text-align: right;\n",
       "    }\n",
       "</style>\n",
       "<table border=\"1\" class=\"dataframe\">\n",
       "  <thead>\n",
       "    <tr style=\"text-align: right;\">\n",
       "      <th></th>\n",
       "      <th>Transaction ID</th>\n",
       "      <th>Customer ID</th>\n",
       "      <th>Payment_Mode</th>\n",
       "    </tr>\n",
       "  </thead>\n",
       "  <tbody>\n",
       "    <tr>\n",
       "      <th>0</th>\n",
       "      <td>10000011</td>\n",
       "      <td>494.0</td>\n",
       "      <td>1.0</td>\n",
       "    </tr>\n",
       "    <tr>\n",
       "      <th>1</th>\n",
       "      <td>10000012</td>\n",
       "      <td>NaN</td>\n",
       "      <td>NaN</td>\n",
       "    </tr>\n",
       "    <tr>\n",
       "      <th>2</th>\n",
       "      <td>10000013</td>\n",
       "      <td>NaN</td>\n",
       "      <td>NaN</td>\n",
       "    </tr>\n",
       "    <tr>\n",
       "      <th>3</th>\n",
       "      <td>10000014</td>\n",
       "      <td>NaN</td>\n",
       "      <td>NaN</td>\n",
       "    </tr>\n",
       "    <tr>\n",
       "      <th>4</th>\n",
       "      <td>10000015</td>\n",
       "      <td>NaN</td>\n",
       "      <td>NaN</td>\n",
       "    </tr>\n",
       "    <tr>\n",
       "      <th>...</th>\n",
       "      <td>...</td>\n",
       "      <td>...</td>\n",
       "      <td>...</td>\n",
       "    </tr>\n",
       "    <tr>\n",
       "      <th>440093</th>\n",
       "      <td>10440104</td>\n",
       "      <td>NaN</td>\n",
       "      <td>NaN</td>\n",
       "    </tr>\n",
       "    <tr>\n",
       "      <th>440094</th>\n",
       "      <td>10440105</td>\n",
       "      <td>NaN</td>\n",
       "      <td>NaN</td>\n",
       "    </tr>\n",
       "    <tr>\n",
       "      <th>440095</th>\n",
       "      <td>10440106</td>\n",
       "      <td>NaN</td>\n",
       "      <td>NaN</td>\n",
       "    </tr>\n",
       "    <tr>\n",
       "      <th>440096</th>\n",
       "      <td>10440107</td>\n",
       "      <td>NaN</td>\n",
       "      <td>NaN</td>\n",
       "    </tr>\n",
       "    <tr>\n",
       "      <th>440097</th>\n",
       "      <td>10440108</td>\n",
       "      <td>NaN</td>\n",
       "      <td>NaN</td>\n",
       "    </tr>\n",
       "  </tbody>\n",
       "</table>\n",
       "<p>440098 rows × 3 columns</p>\n",
       "</div>"
      ],
      "text/plain": [
       "        Transaction ID  Customer ID  Payment_Mode\n",
       "0             10000011        494.0           1.0\n",
       "1             10000012          NaN           NaN\n",
       "2             10000013          NaN           NaN\n",
       "3             10000014          NaN           NaN\n",
       "4             10000015          NaN           NaN\n",
       "...                ...          ...           ...\n",
       "440093        10440104          NaN           NaN\n",
       "440094        10440105          NaN           NaN\n",
       "440095        10440106          NaN           NaN\n",
       "440096        10440107          NaN           NaN\n",
       "440097        10440108          NaN           NaN\n",
       "\n",
       "[440098 rows x 3 columns]"
      ]
     },
     "execution_count": 51,
     "metadata": {},
     "output_type": "execute_result"
    }
   ],
   "source": [
    "transaction_id.mode(axis=0, numeric_only=False, dropna=True)"
   ]
  },
  {
   "cell_type": "markdown",
   "id": "0cf663a1",
   "metadata": {},
   "source": [
    "### Calculate Skewness"
   ]
  },
  {
   "cell_type": "code",
   "execution_count": 52,
   "id": "5d4f8cca",
   "metadata": {},
   "outputs": [
    {
     "data": {
      "text/plain": [
       "Transaction ID    4.992619e-17\n",
       "Customer ID       3.411342e-01\n",
       "Payment_Mode      4.075946e-01\n",
       "dtype: float64"
      ]
     },
     "execution_count": 52,
     "metadata": {},
     "output_type": "execute_result"
    }
   ],
   "source": [
    "transaction_id.skew()"
   ]
  },
  {
   "cell_type": "markdown",
   "id": "0d6180e6",
   "metadata": {},
   "source": [
    "### Calculate Kurtosis"
   ]
  },
  {
   "cell_type": "code",
   "execution_count": 53,
   "id": "7128372b",
   "metadata": {},
   "outputs": [
    {
     "data": {
      "text/plain": [
       "Transaction ID   -1.200000\n",
       "Customer ID      -1.560810\n",
       "Payment_Mode     -1.833875\n",
       "dtype: float64"
      ]
     },
     "execution_count": 53,
     "metadata": {},
     "output_type": "execute_result"
    }
   ],
   "source": [
    "transaction_id.kurt(axis=0)"
   ]
  },
  {
   "cell_type": "markdown",
   "id": "a4def422",
   "metadata": {},
   "source": [
    "### Calculate Variance"
   ]
  },
  {
   "cell_type": "code",
   "execution_count": 54,
   "id": "64375cc7",
   "metadata": {},
   "outputs": [
    {
     "data": {
      "text/plain": [
       "Transaction ID    1.614052e+10\n",
       "Customer ID       4.492503e+08\n",
       "Payment_Mode      2.400308e-01\n",
       "dtype: float64"
      ]
     },
     "execution_count": 54,
     "metadata": {},
     "output_type": "execute_result"
    }
   ],
   "source": [
    "np.var(transaction_id, axis=0)"
   ]
  },
  {
   "cell_type": "markdown",
   "id": "bd48d8e5",
   "metadata": {},
   "source": [
    "### Calculate Median"
   ]
  },
  {
   "cell_type": "code",
   "execution_count": 55,
   "id": "0654acc9",
   "metadata": {},
   "outputs": [
    {
     "data": {
      "text/plain": [
       "array([1.02200595e+07, 1.51680000e+04, 1.00000000e+00])"
      ]
     },
     "execution_count": 55,
     "metadata": {},
     "output_type": "execute_result"
    }
   ],
   "source": [
    "np.median(transaction_id, axis=0)"
   ]
  },
  {
   "cell_type": "markdown",
   "id": "7c2ba330",
   "metadata": {},
   "source": [
    "### Calculate Frequency Bins"
   ]
  },
  {
   "cell_type": "code",
   "execution_count": 57,
   "id": "de8255f1",
   "metadata": {},
   "outputs": [
    {
     "data": {
      "text/plain": [
       "array([[<AxesSubplot:title={'center':'Payment_Mode'}>]], dtype=object)"
      ]
     },
     "execution_count": 57,
     "metadata": {},
     "output_type": "execute_result"
    },
    {
     "data": {
      "image/png": "[encoded data removed]",
      "text/plain": [
       "<Figure size 432x288 with 1 Axes>"
      ]
     },
     "metadata": {
      "needs_background": "light"
     },
     "output_type": "display_data"
    }
   ],
   "source": [
    "transaction_id[[\"Payment_Mode\"]].hist()"
   ]
  },
  {
   "cell_type": "markdown",
   "id": "1999530e",
   "metadata": {},
   "source": [
    "### Create Univariate Distribution Plots"
   ]
  },
  {
   "cell_type": "code",
   "execution_count": 58,
   "id": "5f4959d0",
   "metadata": {},
   "outputs": [
    {
     "name": "stderr",
     "output_type": "stream",
     "text": [
      "C:\\Users\\Richard\\anaconda3\\lib\\site-packages\\seaborn\\distributions.py:2557: FutureWarning: `distplot` is a deprecated function and will be removed in a future version. Please adapt your code to use either `displot` (a figure-level function with similar flexibility) or `histplot` (an axes-level function for histograms).\n",
      "  warnings.warn(msg, FutureWarning)\n"
     ]
    },
    {
     "data": {
      "text/plain": [
       "<seaborn.axisgrid.FacetGrid at 0x228d2b57b50>"
      ]
     },
     "execution_count": 58,
     "metadata": {},
     "output_type": "execute_result"
    },
    {
     "data": {
      "image/png": "[encoded data removed]",
      "text/plain": [
       "<Figure size 368x360 with 1 Axes>"
      ]
     },
     "metadata": {
      "needs_background": "light"
     },
     "output_type": "display_data"
    }
   ],
   "source": [
    "sns.FacetGrid(transaction_id,height=5).map(sns.distplot,\"Payment_Mode\").add_legend()"
   ]
  },
  {
   "cell_type": "markdown",
   "id": "23778cd2",
   "metadata": {},
   "source": [
    "### Boxplots"
   ]
  },
  {
   "cell_type": "code",
   "execution_count": 59,
   "id": "d749840e",
   "metadata": {},
   "outputs": [
    {
     "data": {
      "text/plain": [
       "<AxesSubplot:xlabel='Payment_Mode'>"
      ]
     },
     "execution_count": 59,
     "metadata": {},
     "output_type": "execute_result"
    },
    {
     "data": {
      "image/png": "[encoded data removed]",
      "text/plain": [
       "<Figure size 432x288 with 1 Axes>"
      ]
     },
     "metadata": {
      "needs_background": "light"
     },
     "output_type": "display_data"
    }
   ],
   "source": [
    "sns.boxplot(x=\"Payment_Mode\",data=transaction_id)"
   ]
  },
  {
   "cell_type": "code",
   "execution_count": null,
   "id": "cdd39187",
   "metadata": {},
   "outputs": [],
   "source": []
  }
 ],
 "metadata": {
  "kernelspec": {
   "display_name": "Python 3",
   "language": "python",
   "name": "python3"
  },
  "language_info": {
   "codemirror_mode": {
    "name": "ipython",
    "version": 3
   },
   "file_extension": ".py",
   "mimetype": "text/x-python",
   "name": "python",
   "nbconvert_exporter": "python",
   "pygments_lexer": "ipython3",
   "version": "3.8.8"
  }
 },
 "nbformat": 4,
 "nbformat_minor": 5
}
